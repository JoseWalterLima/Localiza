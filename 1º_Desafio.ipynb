{
 "cells": [
  {
   "cell_type": "code",
   "execution_count": 1,
   "source": [
    "# Importar bibliotecas para análise\r\n",
    "import pandas as pd"
   ],
   "outputs": [],
   "metadata": {}
  },
  {
   "cell_type": "code",
   "execution_count": 2,
   "source": [
    "# Análise inicial da base de dados\r\n",
    "df = pd.read_csv('base_teste.csv')\r\n",
    "print(f'Linhas na base: {df.shape[0]}\\nColunas na base: {df.shape[1]}')\r\n",
    "df.head()"
   ],
   "outputs": [
    {
     "output_type": "stream",
     "name": "stdout",
     "text": [
      "Linhas na base: 480863\n",
      "Colunas na base: 10\n"
     ]
    },
    {
     "output_type": "execute_result",
     "data": {
      "text/html": [
       "<div>\n",
       "<style scoped>\n",
       "    .dataframe tbody tr th:only-of-type {\n",
       "        vertical-align: middle;\n",
       "    }\n",
       "\n",
       "    .dataframe tbody tr th {\n",
       "        vertical-align: top;\n",
       "    }\n",
       "\n",
       "    .dataframe thead th {\n",
       "        text-align: right;\n",
       "    }\n",
       "</style>\n",
       "<table border=\"1\" class=\"dataframe\">\n",
       "  <thead>\n",
       "    <tr style=\"text-align: right;\">\n",
       "      <th></th>\n",
       "      <th>Unnamed: 0</th>\n",
       "      <th>cidade_retirada</th>\n",
       "      <th>cidade_devolucao</th>\n",
       "      <th>cd_contrato</th>\n",
       "      <th>transporte_locado</th>\n",
       "      <th>data_abertura_contrato</th>\n",
       "      <th>qtd_diarias</th>\n",
       "      <th>data_fechamento_contrato</th>\n",
       "      <th>qtd_hora_extra</th>\n",
       "      <th>cd_cliente</th>\n",
       "    </tr>\n",
       "  </thead>\n",
       "  <tbody>\n",
       "    <tr>\n",
       "      <th>0</th>\n",
       "      <td>0</td>\n",
       "      <td>Hogsmeade</td>\n",
       "      <td>Hogsmeade</td>\n",
       "      <td>HGM048798</td>\n",
       "      <td>Portal</td>\n",
       "      <td>2015-01-26 05:58:37</td>\n",
       "      <td>1</td>\n",
       "      <td>2015-01-27 05:58:37</td>\n",
       "      <td>0</td>\n",
       "      <td>1</td>\n",
       "    </tr>\n",
       "    <tr>\n",
       "      <th>1</th>\n",
       "      <td>1</td>\n",
       "      <td>Springfield</td>\n",
       "      <td>Springfield</td>\n",
       "      <td>SPF030834</td>\n",
       "      <td>Ônibus Escolar</td>\n",
       "      <td>2015-02-05 15:10:19</td>\n",
       "      <td>1</td>\n",
       "      <td>2015-02-06 15:10:19</td>\n",
       "      <td>0</td>\n",
       "      <td>1</td>\n",
       "    </tr>\n",
       "    <tr>\n",
       "      <th>2</th>\n",
       "      <td>2</td>\n",
       "      <td>Porto Real</td>\n",
       "      <td>Porto Real</td>\n",
       "      <td>PRL017782</td>\n",
       "      <td>Barco</td>\n",
       "      <td>2015-05-04 20:49:56</td>\n",
       "      <td>1</td>\n",
       "      <td>2015-05-05 20:49:56</td>\n",
       "      <td>0</td>\n",
       "      <td>1</td>\n",
       "    </tr>\n",
       "    <tr>\n",
       "      <th>3</th>\n",
       "      <td>3</td>\n",
       "      <td>Basin City</td>\n",
       "      <td>Basin City</td>\n",
       "      <td>SIN042621</td>\n",
       "      <td>1960 Corvette</td>\n",
       "      <td>2015-05-07 07:34:04</td>\n",
       "      <td>1</td>\n",
       "      <td>2015-05-08 07:34:04</td>\n",
       "      <td>0</td>\n",
       "      <td>1</td>\n",
       "    </tr>\n",
       "    <tr>\n",
       "      <th>4</th>\n",
       "      <td>4</td>\n",
       "      <td>Godric's Hollow</td>\n",
       "      <td>Godric's Hollow</td>\n",
       "      <td>GDH044954</td>\n",
       "      <td>Testralio</td>\n",
       "      <td>2015-08-01 11:14:48</td>\n",
       "      <td>2</td>\n",
       "      <td>2015-08-03 12:14:48</td>\n",
       "      <td>1</td>\n",
       "      <td>1</td>\n",
       "    </tr>\n",
       "  </tbody>\n",
       "</table>\n",
       "</div>"
      ],
      "text/plain": [
       "   Unnamed: 0  cidade_retirada cidade_devolucao cd_contrato transporte_locado  \\\n",
       "0           0        Hogsmeade        Hogsmeade   HGM048798            Portal   \n",
       "1           1      Springfield      Springfield   SPF030834    Ônibus Escolar   \n",
       "2           2       Porto Real       Porto Real   PRL017782             Barco   \n",
       "3           3       Basin City       Basin City   SIN042621     1960 Corvette   \n",
       "4           4  Godric's Hollow  Godric's Hollow   GDH044954         Testralio   \n",
       "\n",
       "  data_abertura_contrato  qtd_diarias data_fechamento_contrato  \\\n",
       "0    2015-01-26 05:58:37            1      2015-01-27 05:58:37   \n",
       "1    2015-02-05 15:10:19            1      2015-02-06 15:10:19   \n",
       "2    2015-05-04 20:49:56            1      2015-05-05 20:49:56   \n",
       "3    2015-05-07 07:34:04            1      2015-05-08 07:34:04   \n",
       "4    2015-08-01 11:14:48            2      2015-08-03 12:14:48   \n",
       "\n",
       "   qtd_hora_extra  cd_cliente  \n",
       "0               0           1  \n",
       "1               0           1  \n",
       "2               0           1  \n",
       "3               0           1  \n",
       "4               1           1  "
      ]
     },
     "metadata": {},
     "execution_count": 2
    }
   ],
   "metadata": {}
  },
  {
   "cell_type": "code",
   "execution_count": 3,
   "source": [
    "# Formatos dos dados, provavlemente será necessário ajustar as Datas\r\n",
    "df.dtypes"
   ],
   "outputs": [
    {
     "output_type": "execute_result",
     "data": {
      "text/plain": [
       "Unnamed: 0                   int64\n",
       "cidade_retirada             object\n",
       "cidade_devolucao            object\n",
       "cd_contrato                 object\n",
       "transporte_locado           object\n",
       "data_abertura_contrato      object\n",
       "qtd_diarias                  int64\n",
       "data_fechamento_contrato    object\n",
       "qtd_hora_extra               int64\n",
       "cd_cliente                   int64\n",
       "dtype: object"
      ]
     },
     "metadata": {},
     "execution_count": 3
    }
   ],
   "metadata": {}
  },
  {
   "cell_type": "code",
   "execution_count": 4,
   "source": [
    "# Abertura de Contrato por Ano\r\n",
    "df.data_abertura_contrato.str.split('-').str[0].value_counts().sort_index()"
   ],
   "outputs": [
    {
     "output_type": "execute_result",
     "data": {
      "text/plain": [
       "2015    80166\n",
       "2016    79835\n",
       "2017    80029\n",
       "2018    80197\n",
       "2019    80516\n",
       "2020    80120\n",
       "Name: data_abertura_contrato, dtype: int64"
      ]
     },
     "metadata": {},
     "execution_count": 4
    }
   ],
   "metadata": {}
  },
  {
   "cell_type": "markdown",
   "source": [
    "## A base de dados tem informações sobre os contratos abertos entre 2015 e 2020."
   ],
   "metadata": {}
  },
  {
   "cell_type": "code",
   "execution_count": 5,
   "source": [
    "# Fechamento de Contrato por Ano\r\n",
    "df.data_fechamento_contrato.str.split('-').str[0].value_counts().sort_index()"
   ],
   "outputs": [
    {
     "output_type": "execute_result",
     "data": {
      "text/plain": [
       "2015    79633\n",
       "2016    79831\n",
       "2017    80040\n",
       "2018    80171\n",
       "2019    80553\n",
       "2020    80100\n",
       "2021      535\n",
       "Name: data_fechamento_contrato, dtype: int64"
      ]
     },
     "metadata": {},
     "execution_count": 5
    }
   ],
   "metadata": {}
  },
  {
   "cell_type": "markdown",
   "source": [
    "## Já em relação ao fechamento dos contrato, o período vai de 2015 à 2021. Entretando, não será possível avaliar o churn rate em 2015 e 2021, seguindo as premissas consideradas para a análise. Segundo os critérios determinados não será possível calcular a taxa para os clientes ativos em 2015, assim como não será possível calcular a taxa para 2021, uma vez que o período considerado ainda não foi finalizado."
   ],
   "metadata": {}
  },
  {
   "cell_type": "code",
   "execution_count": 6,
   "source": [
    "# Quantidade de Clientes únicos na Base\r\n",
    "len(df.cd_cliente.unique())"
   ],
   "outputs": [
    {
     "output_type": "execute_result",
     "data": {
      "text/plain": [
       "44842"
      ]
     },
     "metadata": {},
     "execution_count": 6
    }
   ],
   "metadata": {}
  },
  {
   "cell_type": "markdown",
   "source": [
    "## Considerando que são apenas 44.482 clientes na base e que estão regustradas 480.863 contratações, fica evidente que vários clientes realizaram contratações várias vezes no mesmo ano e também ao longo dos anos. "
   ],
   "metadata": {}
  },
  {
   "cell_type": "code",
   "execution_count": 7,
   "source": [
    "# Contratação Média por Cliente\r\n",
    "print((df.shape[0])/len(df.cd_cliente.unique()))"
   ],
   "outputs": [
    {
     "output_type": "stream",
     "name": "stdout",
     "text": [
      "10.723495829802417\n"
     ]
    }
   ],
   "metadata": {}
  },
  {
   "cell_type": "code",
   "execution_count": 8,
   "source": [
    "# Duração dos Contratos\r\n",
    "df.qtd_diarias.value_counts().sort_values().head(5)"
   ],
   "outputs": [
    {
     "output_type": "execute_result",
     "data": {
      "text/plain": [
       "23    1\n",
       "26    1\n",
       "24    1\n",
       "20    5\n",
       "21    6\n",
       "Name: qtd_diarias, dtype: int64"
      ]
     },
     "metadata": {},
     "execution_count": 8
    }
   ],
   "metadata": {}
  },
  {
   "cell_type": "markdown",
   "source": [
    "## Bom, como o contrato de maior duração reguistrado na base tem 23 dias, não será necessário considerar o mês, o dia e o horário do contrato para a análise de churn. Dessa forma, será considerado apenas o ano em quem o contrato foi iniciado, de forma que fica implicito que o contrato foi encerrado no mesmo ano."
   ],
   "metadata": {}
  },
  {
   "cell_type": "code",
   "execution_count": 9,
   "source": [
    "# Ciar nova coluna com o Ano da Contratação\r\n",
    "df['Ano_Contratação'] = df.data_fechamento_contrato.str.split('-').str[0]\r\n",
    "df.head()"
   ],
   "outputs": [
    {
     "output_type": "execute_result",
     "data": {
      "text/html": [
       "<div>\n",
       "<style scoped>\n",
       "    .dataframe tbody tr th:only-of-type {\n",
       "        vertical-align: middle;\n",
       "    }\n",
       "\n",
       "    .dataframe tbody tr th {\n",
       "        vertical-align: top;\n",
       "    }\n",
       "\n",
       "    .dataframe thead th {\n",
       "        text-align: right;\n",
       "    }\n",
       "</style>\n",
       "<table border=\"1\" class=\"dataframe\">\n",
       "  <thead>\n",
       "    <tr style=\"text-align: right;\">\n",
       "      <th></th>\n",
       "      <th>Unnamed: 0</th>\n",
       "      <th>cidade_retirada</th>\n",
       "      <th>cidade_devolucao</th>\n",
       "      <th>cd_contrato</th>\n",
       "      <th>transporte_locado</th>\n",
       "      <th>data_abertura_contrato</th>\n",
       "      <th>qtd_diarias</th>\n",
       "      <th>data_fechamento_contrato</th>\n",
       "      <th>qtd_hora_extra</th>\n",
       "      <th>cd_cliente</th>\n",
       "      <th>Ano_Contratação</th>\n",
       "    </tr>\n",
       "  </thead>\n",
       "  <tbody>\n",
       "    <tr>\n",
       "      <th>0</th>\n",
       "      <td>0</td>\n",
       "      <td>Hogsmeade</td>\n",
       "      <td>Hogsmeade</td>\n",
       "      <td>HGM048798</td>\n",
       "      <td>Portal</td>\n",
       "      <td>2015-01-26 05:58:37</td>\n",
       "      <td>1</td>\n",
       "      <td>2015-01-27 05:58:37</td>\n",
       "      <td>0</td>\n",
       "      <td>1</td>\n",
       "      <td>2015</td>\n",
       "    </tr>\n",
       "    <tr>\n",
       "      <th>1</th>\n",
       "      <td>1</td>\n",
       "      <td>Springfield</td>\n",
       "      <td>Springfield</td>\n",
       "      <td>SPF030834</td>\n",
       "      <td>Ônibus Escolar</td>\n",
       "      <td>2015-02-05 15:10:19</td>\n",
       "      <td>1</td>\n",
       "      <td>2015-02-06 15:10:19</td>\n",
       "      <td>0</td>\n",
       "      <td>1</td>\n",
       "      <td>2015</td>\n",
       "    </tr>\n",
       "    <tr>\n",
       "      <th>2</th>\n",
       "      <td>2</td>\n",
       "      <td>Porto Real</td>\n",
       "      <td>Porto Real</td>\n",
       "      <td>PRL017782</td>\n",
       "      <td>Barco</td>\n",
       "      <td>2015-05-04 20:49:56</td>\n",
       "      <td>1</td>\n",
       "      <td>2015-05-05 20:49:56</td>\n",
       "      <td>0</td>\n",
       "      <td>1</td>\n",
       "      <td>2015</td>\n",
       "    </tr>\n",
       "    <tr>\n",
       "      <th>3</th>\n",
       "      <td>3</td>\n",
       "      <td>Basin City</td>\n",
       "      <td>Basin City</td>\n",
       "      <td>SIN042621</td>\n",
       "      <td>1960 Corvette</td>\n",
       "      <td>2015-05-07 07:34:04</td>\n",
       "      <td>1</td>\n",
       "      <td>2015-05-08 07:34:04</td>\n",
       "      <td>0</td>\n",
       "      <td>1</td>\n",
       "      <td>2015</td>\n",
       "    </tr>\n",
       "    <tr>\n",
       "      <th>4</th>\n",
       "      <td>4</td>\n",
       "      <td>Godric's Hollow</td>\n",
       "      <td>Godric's Hollow</td>\n",
       "      <td>GDH044954</td>\n",
       "      <td>Testralio</td>\n",
       "      <td>2015-08-01 11:14:48</td>\n",
       "      <td>2</td>\n",
       "      <td>2015-08-03 12:14:48</td>\n",
       "      <td>1</td>\n",
       "      <td>1</td>\n",
       "      <td>2015</td>\n",
       "    </tr>\n",
       "  </tbody>\n",
       "</table>\n",
       "</div>"
      ],
      "text/plain": [
       "   Unnamed: 0  cidade_retirada cidade_devolucao cd_contrato transporte_locado  \\\n",
       "0           0        Hogsmeade        Hogsmeade   HGM048798            Portal   \n",
       "1           1      Springfield      Springfield   SPF030834    Ônibus Escolar   \n",
       "2           2       Porto Real       Porto Real   PRL017782             Barco   \n",
       "3           3       Basin City       Basin City   SIN042621     1960 Corvette   \n",
       "4           4  Godric's Hollow  Godric's Hollow   GDH044954         Testralio   \n",
       "\n",
       "  data_abertura_contrato  qtd_diarias data_fechamento_contrato  \\\n",
       "0    2015-01-26 05:58:37            1      2015-01-27 05:58:37   \n",
       "1    2015-02-05 15:10:19            1      2015-02-06 15:10:19   \n",
       "2    2015-05-04 20:49:56            1      2015-05-05 20:49:56   \n",
       "3    2015-05-07 07:34:04            1      2015-05-08 07:34:04   \n",
       "4    2015-08-01 11:14:48            2      2015-08-03 12:14:48   \n",
       "\n",
       "   qtd_hora_extra  cd_cliente Ano_Contratação  \n",
       "0               0           1            2015  \n",
       "1               0           1            2015  \n",
       "2               0           1            2015  \n",
       "3               0           1            2015  \n",
       "4               1           1            2015  "
      ]
     },
     "metadata": {},
     "execution_count": 9
    }
   ],
   "metadata": {}
  },
  {
   "cell_type": "markdown",
   "source": [
    "## É preciso criar uma função para calcular a taxa de churn para Clientes Ativos e Clientes Novos, a cada ano, seguindo os critérios definidos."
   ],
   "metadata": {}
  },
  {
   "cell_type": "code",
   "execution_count": 93,
   "source": [
    "# Função para calcular o Churn Rate para Clientes Ativos e Novos Clientes\r\n",
    "def calcular_churn(lista):\r\n",
    "    ano_anterior = lista[0] \r\n",
    "    ano_atual = lista[1]\r\n",
    "\r\n",
    "    total_anterior = int(len(df.loc[df.Ano_Contratação == ano_anterior]['cd_cliente'].unique()))\r\n",
    "    clientes_ativos_anterior = list(df.loc[df.Ano_Contratação == ano_anterior]['cd_cliente'].unique())\r\n",
    "    df_atual = df.loc[df.Ano_Contratação == ano_atual]\r\n",
    "    clientes_ativos_atual = df_atual[df_atual['cd_cliente'].isin(clientes_ativos_anterior)]\r\n",
    "    clientes_ativos_atual = len(clientes_ativos_atual.cd_cliente.unique())\r\n",
    "    churn_clientes_ativos = round(((total_anterior - int(clientes_ativos_atual)) / total_anterior) * 100, 2)\r\n",
    "\r\n",
    "    df_novos_atual = df_atual[~df_atual['cd_cliente'].isin(clientes_ativos_anterior)]\r\n",
    "    clientes_novos_atual = int(len(df_novos_atual.cd_cliente.unique()))\r\n",
    "    recorrente_atual = df_novos_atual['cd_cliente'].duplicated(keep='first').sum()\r\n",
    "    churn_novos_clientes = round(((recorrente_atual / clientes_novos_atual) * 100), 2)\r\n",
    "\r\n",
    "    resultado_período = {'Ano': [lista[1]], 'Churn_Clientes_Ativos': [churn_clientes_ativos], 'Churn_Novos_Clientes': [churn_novos_clientes]}\r\n",
    "    resultado_período = pd.DataFrame.from_dict(resultado_período)\r\n",
    "    \r\n",
    "    return resultado_período"
   ],
   "outputs": [],
   "metadata": {}
  },
  {
   "cell_type": "code",
   "execution_count": 94,
   "source": [
    "# Aplicar a função à Base e retornar os Churn Rate de cada período em um Dataframe\r\n",
    "períodos = [['2015','2016'], ['2016', '2017'], ['2017', '2018'], ['2018', '2019'], ['2019', '2020']]\r\n",
    "df_final = pd.DataFrame(columns=['Ano', 'Churn_Clientes_Ativos', 'Churn_Novos_Clientes'])\r\n",
    "for período in períodos:\r\n",
    "    df_final = df_final.append(calcular_churn(período))\r\n",
    "df_final"
   ],
   "outputs": [
    {
     "output_type": "execute_result",
     "data": {
      "text/html": [
       "<div>\n",
       "<style scoped>\n",
       "    .dataframe tbody tr th:only-of-type {\n",
       "        vertical-align: middle;\n",
       "    }\n",
       "\n",
       "    .dataframe tbody tr th {\n",
       "        vertical-align: top;\n",
       "    }\n",
       "\n",
       "    .dataframe thead th {\n",
       "        text-align: right;\n",
       "    }\n",
       "</style>\n",
       "<table border=\"1\" class=\"dataframe\">\n",
       "  <thead>\n",
       "    <tr style=\"text-align: right;\">\n",
       "      <th></th>\n",
       "      <th>Ano</th>\n",
       "      <th>Churn_Clientes_Ativos</th>\n",
       "      <th>Churn_Novos_Clientes</th>\n",
       "    </tr>\n",
       "  </thead>\n",
       "  <tbody>\n",
       "    <tr>\n",
       "      <th>0</th>\n",
       "      <td>2016</td>\n",
       "      <td>25.88</td>\n",
       "      <td>44.49</td>\n",
       "    </tr>\n",
       "    <tr>\n",
       "      <th>0</th>\n",
       "      <td>2017</td>\n",
       "      <td>25.87</td>\n",
       "      <td>44.58</td>\n",
       "    </tr>\n",
       "    <tr>\n",
       "      <th>0</th>\n",
       "      <td>2018</td>\n",
       "      <td>25.60</td>\n",
       "      <td>43.79</td>\n",
       "    </tr>\n",
       "    <tr>\n",
       "      <th>0</th>\n",
       "      <td>2019</td>\n",
       "      <td>25.81</td>\n",
       "      <td>42.94</td>\n",
       "    </tr>\n",
       "    <tr>\n",
       "      <th>0</th>\n",
       "      <td>2020</td>\n",
       "      <td>26.10</td>\n",
       "      <td>45.94</td>\n",
       "    </tr>\n",
       "  </tbody>\n",
       "</table>\n",
       "</div>"
      ],
      "text/plain": [
       "    Ano  Churn_Clientes_Ativos  Churn_Novos_Clientes\n",
       "0  2016                  25.88                 44.49\n",
       "0  2017                  25.87                 44.58\n",
       "0  2018                  25.60                 43.79\n",
       "0  2019                  25.81                 42.94\n",
       "0  2020                  26.10                 45.94"
      ]
     },
     "metadata": {},
     "execution_count": 94
    }
   ],
   "metadata": {}
  },
  {
   "cell_type": "markdown",
   "source": [
    "## Fica bem claro, através da comparação do churn rate nos períodos, que a hispótese de que **\"O churn de novos clientes é maior do que o churn de clientes ativos\"** é **verdadeira!**"
   ],
   "metadata": {}
  },
  {
   "cell_type": "code",
   "execution_count": 163,
   "source": [
    "# Plotar comparativo entre Grupos de Clientes\r\n",
    "import matplotlib.pyplot as plt\r\n",
    "plt.style.use('tableau-colorblind10')\r\n",
    "df_final.plot(x=\"Ano\", figsize=(12,5), linewidth=10, ylim=(15,50), ylabel=\"Churn Rate\").grid(b=None)"
   ],
   "outputs": [
    {
     "output_type": "display_data",
     "data": {
      "image/png": "[encoded data removed]",
      "text/plain": [
       "<Figure size 960x400 with 1 Axes>"
      ]
     },
     "metadata": {}
    }
   ],
   "metadata": {}
  }
 ],
 "metadata": {
  "orig_nbformat": 4,
  "language_info": {
   "name": "python",
   "version": "3.9.2",
   "mimetype": "text/x-python",
   "codemirror_mode": {
    "name": "ipython",
    "version": 3
   },
   "pygments_lexer": "ipython3",
   "nbconvert_exporter": "python",
   "file_extension": ".py"
  },
  "kernelspec": {
   "name": "python3",
   "display_name": "Python 3.9.2 64-bit (system)"
  },
  "interpreter": {
   "hash": "cd9162a1ab5a8b4c98191d73c5818c764290cb8c87f86bfdb7e4809a7f294f57"
  }
 },
 "nbformat": 4,
 "nbformat_minor": 2
}