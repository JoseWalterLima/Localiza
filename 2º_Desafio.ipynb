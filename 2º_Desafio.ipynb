{
 "cells": [
  {
   "cell_type": "code",
   "execution_count": null,
   "source": [
    "Agenda_A = [['9:00', '10:30'], ['12:00', '13:00'], ['16:00', '18:00']]\r\n",
    "Trabalho_A = ['9:00', '20:00']\r\n",
    "\r\n",
    "Agenda_B = [['10:00', '11:30'], ['12:30', '14:30'], ['14:30', '15:00'], ['16:00','17:00']]\r\n",
    "Trabalho_B = ['10:00', '18:30']"
   ],
   "outputs": [],
   "metadata": {}
  },
  {
   "cell_type": "code",
   "execution_count": 109,
   "source": [
    "def horários_livres(agenda, jornada):\r\n",
    "    horários_minutos = []\r\n",
    "    jornada_minutos = []\r\n",
    "    for compromisso in agenda:\r\n",
    "        início_compromisso = (int(compromisso[0].split(':')[0]) * 60) + int(compromisso[0].split(':')[1])\r\n",
    "        horários_minutos.append(início_compromisso)\r\n",
    "        fim_compromisso = (int(compromisso[1].split(':')[0]) * 60) + int(compromisso[1].split(':')[1])\r\n",
    "        horários_minutos.append(fim_compromisso)\r\n",
    "    \r\n",
    "       \r\n",
    "    início_jornada = (int(jornada[0].split(':')[0]) * 60) + int(jornada[0].split(':')[1])\r\n",
    "    jornada_minutos.append(início_jornada)\r\n",
    "    fim_jornada = (int(jornada[1].split(':')[0]) * 60) + int(jornada[1].split(':')[1])\r\n",
    "    jornada_minutos.append(fim_jornada)\r\n",
    "\r\n",
    "    \r\n",
    "    horários_livres = []\r\n",
    "    posição = 1 \r\n",
    "    while posição < len(horários_minutos[:-1]):\r\n",
    "        horários_livres.append(horários_minutos[posição])\r\n",
    "        posição += 1\r\n",
    "        horários_livres.append(horários_minutos[posição])\r\n",
    "        posição += 1\r\n",
    "\r\n",
    "    duplicados = list(set([x for x in horários_livres if horários_livres.count(x) > 1]))\r\n",
    "    horários_livres = list(set(horários_livres) - set(duplicados))\r\n",
    "\r\n",
    "\r\n",
    "    if jornada_minutos[0] < horários_minutos[0]:\r\n",
    "        horários_livres.append(jornada_minutos[0])\r\n",
    "        horários_livres.append(horários_minutos[0])\r\n",
    "    \r\n",
    "    if jornada_minutos[1] > horários_minutos[-1]:\r\n",
    "        horários_livres.append(jornada_minutos[1])\r\n",
    "        horários_livres.append(horários_minutos[-1])\r\n",
    "\r\n",
    "    horários_livres.sort()\r\n",
    "\r\n",
    "    return horários_livres"
   ],
   "outputs": [],
   "metadata": {}
  },
  {
   "cell_type": "code",
   "execution_count": 110,
   "source": [
    "agenda1 = [['10:00', '11:30'], ['12:30', '14:30'], ['14:30', '15:00'], ['16:00','17:00']]\r\n",
    "jornada1 = ['9:00', '20:00']\r\n",
    "horários_livres(agenda1, jornada1)"
   ],
   "outputs": [
    {
     "output_type": "execute_result",
     "data": {
      "text/plain": [
       "[540, 600, 690, 750, 900, 960, 1020, 1200]"
      ]
     },
     "metadata": {},
     "execution_count": 110
    }
   ],
   "metadata": {}
  },
  {
   "cell_type": "code",
   "execution_count": 111,
   "source": [
    "agenda2 = [['9:00', '10:30'], ['12:00', '13:00'], ['16:00', '18:30']]\r\n",
    "jornada2 = ['7:30', '21:00']\r\n",
    "horários_livres(agenda2, jornada2)"
   ],
   "outputs": [
    {
     "output_type": "execute_result",
     "data": {
      "text/plain": [
       "[450, 540, 630, 720, 780, 960, 1110, 1260]"
      ]
     },
     "metadata": {},
     "execution_count": 111
    }
   ],
   "metadata": {}
  }
 ],
 "metadata": {
  "orig_nbformat": 4,
  "language_info": {
   "name": "python",
   "version": "3.9.2",
   "mimetype": "text/x-python",
   "codemirror_mode": {
    "name": "ipython",
    "version": 3
   },
   "pygments_lexer": "ipython3",
   "nbconvert_exporter": "python",
   "file_extension": ".py"
  },
  "kernelspec": {
   "name": "python3",
   "display_name": "Python 3.9.2 64-bit (system)"
  },
  "interpreter": {
   "hash": "cd9162a1ab5a8b4c98191d73c5818c764290cb8c87f86bfdb7e4809a7f294f57"
  }
 },
 "nbformat": 4,
 "nbformat_minor": 2
}